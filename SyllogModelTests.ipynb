{
 "cells": [
  {
   "cell_type": "code",
   "execution_count": 54,
   "metadata": {},
   "outputs": [],
   "source": [
    "from syllog_model import SyllogPyroModel, get_diagonal_gaussian_factors\n",
    "model = SyllogPyroModel(\n",
    "    nodes=[\n",
    "        {'name': 'a', 'type': 'evidence'}, \n",
    "        {'name': 'b', 'type': 'evidence'}, \n",
    "        {'name': 'c', 'type': 'evidence'}, \n",
    "        {'name': 'd', 'type': 'evidence'}, \n",
    "    ],\n",
    "    edges=[\n",
    "        ['a','c'],\n",
    "        ['b','c'],\n",
    "        ['c','d']\n",
    "    ]\n",
    ")\n",
    "factors = get_diagonal_gaussian_factors(model.get_factor_descriptions())"
   ]
  },
  {
   "cell_type": "code",
   "execution_count": 55,
   "metadata": {},
   "outputs": [
    {
     "data": {
      "text/plain": [
       "{'a': [], 'b': [], 'c': ['a', 'b'], 'd': ['c']}"
      ]
     },
     "execution_count": 55,
     "metadata": {},
     "output_type": "execute_result"
    }
   ],
   "source": [
    "model.get_factor_descriptions()"
   ]
  },
  {
   "cell_type": "code",
   "execution_count": 56,
   "metadata": {},
   "outputs": [],
   "source": [
    "import torch\n",
    "from torch.distributions import Normal, Bernoulli"
   ]
  },
  {
   "cell_type": "code",
   "execution_count": 57,
   "metadata": {},
   "outputs": [],
   "source": [
    "factors = {\n",
    "    'a': lambda *params: Normal(0, 1).sample(),\n",
    "    'b': lambda *params: Normal(0, 1).sample(),\n",
    "    'c': lambda a, b: Normal(a, torch.abs(b)).sample(),\n",
    "    'd': lambda c: Bernoulli(torch.sigmoid(c)).sample()\n",
    "}"
   ]
  },
  {
   "cell_type": "code",
   "execution_count": 58,
   "metadata": {},
   "outputs": [],
   "source": [
    "measurements = [model(factors) for i in range(100)] # gotta put in batching"
   ]
  },
  {
   "cell_type": "code",
   "execution_count": 59,
   "metadata": {},
   "outputs": [],
   "source": [
    "import matplotlib.pyplot as plt"
   ]
  },
  {
   "cell_type": "code",
   "execution_count": 61,
   "metadata": {},
   "outputs": [
    {
     "data": {
      "text/plain": [
       "(array([53.,  0.,  0.,  0.,  0.,  0.,  0.,  0.,  0., 47.]),\n",
       " array([0. , 0.1, 0.2, 0.3, 0.4, 0.5, 0.6, 0.7, 0.8, 0.9, 1. ],\n",
       "       dtype=float32),\n",
       " <a list of 10 Patch objects>)"
      ]
     },
     "execution_count": 61,
     "metadata": {},
     "output_type": "execute_result"
    },
    {
     "data": {
      "image/png": "[encoded data removed]",
      "text/plain": [
       "<Figure size 432x288 with 1 Axes>"
      ]
     },
     "metadata": {
      "needs_background": "light"
     },
     "output_type": "display_data"
    }
   ],
   "source": [
    "plt.hist(measurements)"
   ]
  },
  {
   "cell_type": "code",
   "execution_count": null,
   "metadata": {},
   "outputs": [],
   "source": []
  }
 ],
 "metadata": {
  "kernelspec": {
   "display_name": "Python 3",
   "language": "python",
   "name": "python3"
  },
  "language_info": {
   "codemirror_mode": {
    "name": "ipython",
    "version": 3
   },
   "file_extension": ".py",
   "mimetype": "text/x-python",
   "name": "python",
   "nbconvert_exporter": "python",
   "pygments_lexer": "ipython3",
   "version": "3.7.0"
  }
 },
 "nbformat": 4,
 "nbformat_minor": 2
}
