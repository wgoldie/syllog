{
 "cells": [
  {
   "cell_type": "code",
   "execution_count": 1,
   "metadata": {},
   "outputs": [],
   "source": [
    "from syllog_model import SyllogPyroModel"
   ]
  },
  {
   "cell_type": "code",
   "execution_count": 2,
   "metadata": {},
   "outputs": [],
   "source": [
    "with open('scale.json', 'r') as jsonfile:\n",
    "    cyjson=jsonfile.read().replace('\\n', '')"
   ]
  },
  {
   "cell_type": "code",
   "execution_count": 3,
   "metadata": {},
   "outputs": [],
   "source": [
    "model = SyllogPyroModel.from_cyjson(cyjson)"
   ]
  },
  {
   "cell_type": "code",
   "execution_count": 4,
   "metadata": {},
   "outputs": [],
   "source": [
    "model.plot_graph('scale.png')"
   ]
  },
  {
   "cell_type": "code",
   "execution_count": 5,
   "metadata": {},
   "outputs": [
    {
     "data": {
      "text/plain": [
       "{'b': {'fn': 'Normal', 'inputs': ['mu', 'sigma'], 'outputs': ['N']},\n",
       " 'd': {'fn': 'Normal', 'inputs': ['mu', 'sigma'], 'outputs': ['N']}}"
      ]
     },
     "execution_count": 5,
     "metadata": {},
     "output_type": "execute_result"
    }
   ],
   "source": [
    "model.get_factor_descriptions()"
   ]
  },
  {
   "cell_type": "code",
   "execution_count": 6,
   "metadata": {},
   "outputs": [
    {
     "data": {
      "text/plain": [
       "['guess', 'weight_var', 'measure_var']"
      ]
     },
     "execution_count": 6,
     "metadata": {},
     "output_type": "execute_result"
    }
   ],
   "source": [
    "model.get_evidence_nodes()"
   ]
  },
  {
   "cell_type": "code",
   "execution_count": 7,
   "metadata": {},
   "outputs": [],
   "source": [
    "import pyro.distributions as dist\n",
    "import pyro\n",
    "import torch"
   ]
  },
  {
   "cell_type": "code",
   "execution_count": 11,
   "metadata": {},
   "outputs": [],
   "source": [
    "def Normal(_name, mu, sigma):\n",
    "    return {'N': pyro.sample(_name, dist.Normal(mu, sigma)) }\n",
    "def Bernoulli(_name, p):\n",
    "    return {'t': pyro.sample(_name, dist.Bernoulli(p)) }\n",
    "def CategoricalOutcome(_name, outcome_mat, category):\n",
    "    return { 'i': outcome_mat[torch.tensor(category).int()] }\n",
    "\n",
    "factor_functions = { 'Normal': Normal, 'Bernoulli': Bernoulli, 'CategoricalOutcome': CategoricalOutcome }"
   ]
  },
  {
   "cell_type": "code",
   "execution_count": 21,
   "metadata": {},
   "outputs": [],
   "source": [
    "def scale(guess):\n",
    "    evidence = {'guess': guess, 'weight_var': 1., 'measure_var': 0.75}\n",
    "    return model(evidence, factor_functions)['measurement']"
   ]
  },
  {
   "cell_type": "code",
   "execution_count": 22,
   "metadata": {},
   "outputs": [],
   "source": [
    "samples = [scale(1.2) for i in range(100)]"
   ]
  },
  {
   "cell_type": "code",
   "execution_count": 23,
   "metadata": {},
   "outputs": [],
   "source": [
    "import matplotlib.pyplot as plt"
   ]
  },
  {
   "cell_type": "code",
   "execution_count": 24,
   "metadata": {},
   "outputs": [
    {
     "data": {
      "text/plain": [
       "(array([ 2.,  0.,  0.,  0.,  0.,  2.,  1.,  2.,  4.,  5., 15., 12.,  4.,\n",
       "         8., 12., 13., 17., 26., 25., 34., 32., 42., 44., 41., 56., 49.,\n",
       "        45., 44., 47., 42., 56., 39., 37., 32., 39., 29., 21., 18., 27.,\n",
       "         9., 18., 10., 14.,  7.,  4.,  6.,  4.,  1.,  0.,  5.]),\n",
       " array([-2.7712884 , -2.6266856 , -2.4820828 , -2.33748   , -2.1928773 ,\n",
       "        -2.0482743 , -1.9036716 , -1.7590687 , -1.614466  , -1.4698632 ,\n",
       "        -1.3252604 , -1.1806575 , -1.0360547 , -0.89145195, -0.7468491 ,\n",
       "        -0.60224634, -0.45764354, -0.31304073, -0.16843791, -0.02383512,\n",
       "         0.12076769,  0.2653705 ,  0.4099733 ,  0.5545761 ,  0.69917893,\n",
       "         0.8437817 ,  0.9883845 ,  1.1329873 ,  1.2775902 ,  1.4221929 ,\n",
       "         1.5667957 ,  1.7113985 ,  1.8560014 ,  2.0006042 ,  2.145207  ,\n",
       "         2.2898097 ,  2.4344125 ,  2.5790153 ,  2.7236183 ,  2.868221  ,\n",
       "         3.0128238 ,  3.1574266 ,  3.3020294 ,  3.4466321 ,  3.591235  ,\n",
       "         3.7358377 ,  3.8804407 ,  4.0250435 ,  4.1696463 ,  4.314249  ,\n",
       "         4.458852  ], dtype=float32),\n",
       " <a list of 50 Patch objects>)"
      ]
     },
     "execution_count": 24,
     "metadata": {},
     "output_type": "execute_result"
    },
    {
     "data": {
      "image/png": "[encoded data removed]",
      "text/plain": [
       "<Figure size 432x288 with 1 Axes>"
      ]
     },
     "metadata": {
      "needs_background": "light"
     },
     "output_type": "display_data"
    }
   ],
   "source": [
    "plt.hist(samples, bins=50)"
   ]
  },
  {
   "cell_type": "code",
   "execution_count": 25,
   "metadata": {},
   "outputs": [],
   "source": [
    "posterior = pyro.infer.Importance(scale, num_samples = 100)"
   ]
  },
  {
   "cell_type": "code",
   "execution_count": 29,
   "metadata": {},
   "outputs": [
    {
     "name": "stdout",
     "output_type": "stream",
     "text": [
      "tensor(5.8351)\n"
     ]
    }
   ],
   "source": [
    "guess = 8.5\n",
    "marginal = pyro.infer.EmpiricalMarginal(posterior.run(guess))\n",
    "print(marginal())"
   ]
  },
  {
   "cell_type": "code",
   "execution_count": 30,
   "metadata": {},
   "outputs": [
    {
     "data": {
      "image/png": "[encoded data removed]",
      "text/plain": [
       "<Figure size 432x288 with 1 Axes>"
      ]
     },
     "metadata": {
      "needs_background": "light"
     },
     "output_type": "display_data"
    }
   ],
   "source": [
    "plt.hist([marginal().item() for _ in range(100)], range=(5.0, 12.0))\n",
    "plt.title(\"P(measurement | guess)\")\n",
    "plt.xlabel(\"weight\")\n",
    "plt.ylabel(\"#\");"
   ]
  },
  {
   "cell_type": "code",
   "execution_count": null,
   "metadata": {},
   "outputs": [],
   "source": []
  }
 ],
 "metadata": {
  "kernelspec": {
   "display_name": "Python 3",
   "language": "python",
   "name": "python3"
  },
  "language_info": {
   "codemirror_mode": {
    "name": "ipython",
    "version": 3
   },
   "file_extension": ".py",
   "mimetype": "text/x-python",
   "name": "python",
   "nbconvert_exporter": "python",
   "pygments_lexer": "ipython3",
   "version": "3.7.0"
  }
 },
 "nbformat": 4,
 "nbformat_minor": 2
}
