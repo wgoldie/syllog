{
 "cells": [
  {
   "cell_type": "code",
   "execution_count": 1,
   "metadata": {},
   "outputs": [],
   "source": [
    "from syllog_model import SyllogPyroModel"
   ]
  },
  {
   "cell_type": "code",
   "execution_count": 2,
   "metadata": {},
   "outputs": [],
   "source": [
    "with open('icecream.json', 'r') as jsonfile:\n",
    "    cyjson=jsonfile.read().replace('\\n', '')"
   ]
  },
  {
   "cell_type": "code",
   "execution_count": 3,
   "metadata": {},
   "outputs": [],
   "source": [
    "model = SyllogPyroModel.from_cyjson(cyjson)"
   ]
  },
  {
   "cell_type": "code",
   "execution_count": 4,
   "metadata": {},
   "outputs": [],
   "source": [
    "model.plot_graph('icecream2.png')"
   ]
  },
  {
   "cell_type": "code",
   "execution_count": 5,
   "metadata": {},
   "outputs": [
    {
     "data": {
      "text/plain": [
       "{'b': {'fn': 'Normal', 'inputs': ['mu', 'sigma'], 'outputs': ['c']},\n",
       " 'z': {'fn': 'CategoricalOutcome',\n",
       "  'inputs': ['outcome_mat', 'category'],\n",
       "  'outputs': ['i']},\n",
       " 'f': {'fn': 'CategoricalOutcome',\n",
       "  'inputs': ['outcome_mat', 'category'],\n",
       "  'outputs': ['i']},\n",
       " 's': {'fn': 'Bernoulli', 'inputs': ['p'], 'outputs': ['t']}}"
      ]
     },
     "execution_count": 5,
     "metadata": {},
     "output_type": "execute_result"
    }
   ],
   "source": [
    "model.get_factor_descriptions()"
   ]
  },
  {
   "cell_type": "code",
   "execution_count": 6,
   "metadata": {},
   "outputs": [
    {
     "data": {
      "text/plain": [
       "['temp_mean_mat', 'temp_var_mat', 'cloud_prob']"
      ]
     },
     "execution_count": 6,
     "metadata": {},
     "output_type": "execute_result"
    }
   ],
   "source": [
    "model.get_evidence_nodes()"
   ]
  },
  {
   "cell_type": "code",
   "execution_count": 7,
   "metadata": {},
   "outputs": [],
   "source": [
    "import torch.distributions as dist\n",
    "import torch"
   ]
  },
  {
   "cell_type": "code",
   "execution_count": 8,
   "metadata": {},
   "outputs": [],
   "source": [
    "def Normal(mu, sigma):\n",
    "    return {'c': dist.Normal(mu, sigma).sample() }\n",
    "def Bernoulli(p):\n",
    "    return {'t': dist.Bernoulli(p).sample() }\n",
    "def CategoricalOutcome(outcome_mat, category):\n",
    "    return { 'i': outcome_mat[torch.tensor(category).int()] }\n",
    "\n",
    "factor_functions = { 'Normal': Normal, 'Bernoulli': Bernoulli, 'CategoricalOutcome': CategoricalOutcome }"
   ]
  },
  {
   "cell_type": "code",
   "execution_count": 9,
   "metadata": {},
   "outputs": [],
   "source": [
    "evidence = {'temp_mean_mat': [75, 55], 'temp_var_mat': [10,15], 'cloud_prob': 0.3}"
   ]
  },
  {
   "cell_type": "code",
   "execution_count": 22,
   "metadata": {},
   "outputs": [
    {
     "name": "stderr",
     "output_type": "stream",
     "text": [
      "/home/wgoldie/anaconda3/lib/python3.7/site-packages/ipykernel_launcher.py:6: UserWarning: To copy construct from a tensor, it is recommended to use sourceTensor.clone().detach() or sourceTensor.clone().detach().requires_grad_(True), rather than torch.tensor(sourceTensor).\n",
      "  \n"
     ]
    }
   ],
   "source": [
    "samples = [model(evidence, factor_functions)['temp'] for i in range(1000)]"
   ]
  },
  {
   "cell_type": "code",
   "execution_count": 23,
   "metadata": {},
   "outputs": [],
   "source": [
    "import matplotlib.pyplot as plt"
   ]
  },
  {
   "cell_type": "code",
   "execution_count": 25,
   "metadata": {},
   "outputs": [
    {
     "data": {
      "text/plain": [
       "(array([ 2.,  0.,  1.,  0.,  0.,  2.,  2.,  2.,  4.,  3.,  7.,  9.,  4.,\n",
       "        15.,  6.,  9., 13., 16., 16.,  9., 11., 22., 21., 18., 26., 32.,\n",
       "        38., 30., 41., 60., 57., 43., 64., 65., 40., 51., 55., 36., 43.,\n",
       "        36., 26., 20., 11., 15.,  4.,  4.,  3.,  4.,  2.,  2.]),\n",
       " array([ 12.468098,  14.327235,  16.186373,  18.04551 ,  19.904648,\n",
       "         21.763784,  23.622921,  25.48206 ,  27.341196,  29.200335,\n",
       "         31.059471,  32.91861 ,  34.777744,  36.636883,  38.49602 ,\n",
       "         40.355156,  42.214294,  44.073433,  45.93257 ,  47.791706,\n",
       "         49.650845,  51.509983,  53.369118,  55.228256,  57.087395,\n",
       "         58.946533,  60.805668,  62.664806,  64.52394 ,  66.38308 ,\n",
       "         68.24222 ,  70.10136 ,  71.960495,  73.81963 ,  75.678764,\n",
       "         77.5379  ,  79.39704 ,  81.25618 ,  83.11532 ,  84.97446 ,\n",
       "         86.83359 ,  88.692726,  90.551865,  92.411   ,  94.27014 ,\n",
       "         96.12928 ,  97.98842 ,  99.84755 , 101.70669 , 103.56583 ,\n",
       "        105.424965], dtype=float32),\n",
       " <a list of 50 Patch objects>)"
      ]
     },
     "execution_count": 25,
     "metadata": {},
     "output_type": "execute_result"
    },
    {
     "data": {
      "image/png": "[encoded data removed]",
      "text/plain": [
       "<Figure size 432x288 with 1 Axes>"
      ]
     },
     "metadata": {
      "needs_background": "light"
     },
     "output_type": "display_data"
    }
   ],
   "source": [
    "plt.hist(samples, bins=50)"
   ]
  },
  {
   "cell_type": "code",
   "execution_count": null,
   "metadata": {},
   "outputs": [],
   "source": []
  },
  {
   "cell_type": "code",
   "execution_count": null,
   "metadata": {},
   "outputs": [],
   "source": []
  },
  {
   "cell_type": "code",
   "execution_count": null,
   "metadata": {},
   "outputs": [],
   "source": []
  },
  {
   "cell_type": "code",
   "execution_count": null,
   "metadata": {},
   "outputs": [],
   "source": []
  }
 ],
 "metadata": {
  "kernelspec": {
   "display_name": "Python 3",
   "language": "python",
   "name": "python3"
  },
  "language_info": {
   "codemirror_mode": {
    "name": "ipython",
    "version": 3
   },
   "file_extension": ".py",
   "mimetype": "text/x-python",
   "name": "python",
   "nbconvert_exporter": "python",
   "pygments_lexer": "ipython3",
   "version": "3.7.0"
  }
 },
 "nbformat": 4,
 "nbformat_minor": 2
}
