{
 "cells": [
  {
   "cell_type": "code",
   "execution_count": 11,
   "metadata": {},
   "outputs": [],
   "source": [
    "from syllog_model import SyllogPyroModel\n",
    "model = SyllogPyroModel.from_json(\n",
    " '{\"a\":{\"type\":\"variable\",\"variableType\":\"LATENT\"},\"b\":{\"type\":\"variable\",\"variableType\":\"LATENT\"},\"b=>a\":{\"type\":\"factor\",\"inputs\":[\"b\"],\"outputs\":[\"a\"]},\"=>b\":{\"type\":\"factor\",\"inputs\":[],\"outputs\":[\"b\"]}}'\n",
    ")"
   ]
  },
  {
   "cell_type": "code",
   "execution_count": 12,
   "metadata": {},
   "outputs": [
    {
     "data": {
      "text/plain": [
       "{'b=>a': {'inputs': ['b'], 'outputs': ['a']},\n",
       " '=>b': {'inputs': [], 'outputs': ['b']}}"
      ]
     },
     "execution_count": 12,
     "metadata": {},
     "output_type": "execute_result"
    }
   ],
   "source": [
    "model.get_factor_descriptions()"
   ]
  },
  {
   "cell_type": "code",
   "execution_count": 13,
   "metadata": {},
   "outputs": [],
   "source": [
    "from torch.distributions import Normal\n",
    "factors = {\n",
    "    '=>b': lambda *_: Normal(0, 1).sample(),\n",
    "    'b=>a': lambda b: Normal(b, 1).sample(),\n",
    "}"
   ]
  },
  {
   "cell_type": "code",
   "execution_count": 14,
   "metadata": {},
   "outputs": [],
   "source": [
    "measurements = [model(factors) for i in range(100)] # gotta put in batching"
   ]
  },
  {
   "cell_type": "code",
   "execution_count": 15,
   "metadata": {},
   "outputs": [],
   "source": [
    "import matplotlib.pyplot as plt"
   ]
  },
  {
   "cell_type": "code",
   "execution_count": 16,
   "metadata": {},
   "outputs": [
    {
     "data": {
      "text/plain": [
       "(array([ 2.,  7., 15., 20., 17., 15., 14.,  4.,  4.,  2.]),\n",
       " array([-2.1912715 , -1.7221007 , -1.25293   , -0.78375924, -0.3145885 ,\n",
       "         0.15458226,  0.623753  ,  1.0929238 ,  1.5620946 ,  2.0312653 ,\n",
       "         2.500436  ], dtype=float32),\n",
       " <a list of 10 Patch objects>)"
      ]
     },
     "execution_count": 16,
     "metadata": {},
     "output_type": "execute_result"
    },
    {
     "data": {
      "image/png": "[encoded data removed]",
      "text/plain": [
       "<Figure size 432x288 with 1 Axes>"
      ]
     },
     "metadata": {
      "needs_background": "light"
     },
     "output_type": "display_data"
    }
   ],
   "source": [
    "plt.hist(measurements)"
   ]
  },
  {
   "cell_type": "code",
   "execution_count": null,
   "metadata": {},
   "outputs": [],
   "source": []
  },
  {
   "cell_type": "code",
   "execution_count": null,
   "metadata": {},
   "outputs": [],
   "source": []
  }
 ],
 "metadata": {
  "kernelspec": {
   "display_name": "Python 3",
   "language": "python",
   "name": "python3"
  },
  "language_info": {
   "codemirror_mode": {
    "name": "ipython",
    "version": 3
   },
   "file_extension": ".py",
   "mimetype": "text/x-python",
   "name": "python",
   "nbconvert_exporter": "python",
   "pygments_lexer": "ipython3",
   "version": "3.7.0"
  }
 },
 "nbformat": 4,
 "nbformat_minor": 2
}
