{
 "cells": [
  {
   "cell_type": "markdown",
   "metadata": {},
   "source": [
    "## Sampling with Syllog and Pyro\n",
    "\n",
    "This example is adapted from the [Pyro documentation](http://pyro.ai/examples/intro_part_i.html)."
   ]
  },
  {
   "cell_type": "code",
   "execution_count": 19,
   "metadata": {},
   "outputs": [],
   "source": [
    "#!cairo install pytorch -c pytorch\n",
    "#!pip install cairocffi pyro matplotlib"
   ]
  },
  {
   "cell_type": "code",
   "execution_count": 2,
   "metadata": {},
   "outputs": [],
   "source": [
    "import torch\n",
    "import cairocffi as cairo # need this import/rename for igraph plotting, it can be ommitted if you don't plot\n",
    "import matplotlib.pyplot as plt\n",
    "\n",
    "import sys\n",
    "sys.path.append('../')\n",
    "from lib.syllog_model import SyllogPyroModel # Class that reads Syllog JSON into a Pyro model\n",
    "from factors.pyro import factors as PyroFactors # Module providing factors from pyro.distributions"
   ]
  },
  {
   "cell_type": "markdown",
   "metadata": {},
   "source": [
    "### Model loading"
   ]
  },
  {
   "cell_type": "markdown",
   "metadata": {},
   "source": [
    "The first step is to read in our Syllog model.\n",
    "You can replace `icecream.json` with your own Syllog-authored model file."
   ]
  },
  {
   "cell_type": "code",
   "execution_count": 3,
   "metadata": {},
   "outputs": [],
   "source": [
    "with open('data/icecream.json', 'r') as jsonfile:\n",
    "    cyjson=jsonfile.read()"
   ]
  },
  {
   "cell_type": "markdown",
   "metadata": {},
   "source": [
    "We can construct a Pyro-compatible model using `SyllogPyroModel` simply by importing the Syllog JSON:"
   ]
  },
  {
   "cell_type": "code",
   "execution_count": 4,
   "metadata": {},
   "outputs": [],
   "source": [
    "model = SyllogPyroModel.from_cyjson(cyjson)"
   ]
  },
  {
   "cell_type": "markdown",
   "metadata": {},
   "source": [
    "### Model investigation"
   ]
  },
  {
   "cell_type": "markdown",
   "metadata": {},
   "source": [
    "#### Graph structure\n",
    "This is a good time for a sanity check to make sure your model is a DAG and otherwise valid."
   ]
  },
  {
   "cell_type": "code",
   "execution_count": 5,
   "metadata": {},
   "outputs": [],
   "source": [
    "model.plot_graph('icecream.png')"
   ]
  },
  {
   "cell_type": "markdown",
   "metadata": {},
   "source": [
    "`Markdown: ![icecream](icecream.png)`\n",
    "![icecream](icecream.png)"
   ]
  },
  {
   "cell_type": "markdown",
   "metadata": {},
   "source": [
    "#### Listing and specification of evidence nodes \n",
    "Currently, all variables with parents. In the future, explicit marking of latent/evidence nodes will allow marginalization over parentless nodes. For now, an inputless prior factor should be used to construct  variables intended for marginalization."
   ]
  },
  {
   "cell_type": "code",
   "execution_count": 6,
   "metadata": {},
   "outputs": [
    {
     "data": {
      "text/plain": [
       "['cloud_prob', 'temp_mean_mat', 'temp_variance_mat']"
      ]
     },
     "execution_count": 6,
     "metadata": {},
     "output_type": "execute_result"
    }
   ],
   "source": [
    "model.get_evidence_nodes()"
   ]
  },
  {
   "cell_type": "code",
   "execution_count": 7,
   "metadata": {},
   "outputs": [],
   "source": [
    "evidence = {'temp_mean_mat': [75, 55], 'temp_variance_mat': [10,15], 'cloud_prob': 0.3}"
   ]
  },
  {
   "cell_type": "markdown",
   "metadata": {},
   "source": [
    "#### Listing and specification of factors\n",
    "This allows us to construct the set of functions needed to compute the model's factor relationships.\n",
    "Generally, you will probably be working with one or more predefined factor libraries, and will not need to worry about whether or not individual factor functions in your model have been defined."
   ]
  },
  {
   "cell_type": "code",
   "execution_count": 14,
   "metadata": {
    "scrolled": true
   },
   "outputs": [
    {
     "data": {
      "text/plain": [
       "{'e3569ca5-8299-4345-b2b6-3ec913d21b52': {'fn': 'Bernoulli',\n",
       "  'inputs': ['p'],\n",
       "  'outputs': ['x']},\n",
       " '29dd4398-b5d8-400c-af92-f2e4655e2ae1': {'fn': 'CategoricalOutcome',\n",
       "  'inputs': ['outcome_mat', 'category'],\n",
       "  'outputs': ['c']},\n",
       " '9b4558a1-a573-4fc2-a047-02ee71144f80': {'fn': 'CategoricalOutcome',\n",
       "  'inputs': ['outcome_mat', 'category'],\n",
       "  'outputs': ['c']},\n",
       " '9d097c1f-febd-4e0c-a784-ebb173800bbb': {'fn': 'Normal',\n",
       "  'inputs': ['mu', 'sigma'],\n",
       "  'outputs': ['z']}}"
      ]
     },
     "execution_count": 14,
     "metadata": {},
     "output_type": "execute_result"
    }
   ],
   "source": [
    "model.get_factor_descriptions()"
   ]
  },
  {
   "cell_type": "markdown",
   "metadata": {},
   "source": [
    "We construct a dict-like object of factor functions (using `PyroFactors` here).\n",
    "\n",
    "This step is performed manually, rather than by the model library, to ensure flexibility (E.g. to allow you to choose the priority of factor functions with colliding names from multiple libraries)."
   ]
  },
  {
   "cell_type": "code",
   "execution_count": 16,
   "metadata": {},
   "outputs": [
    {
     "data": {
      "text/plain": [
       "{'Bernoulli': <function factors.pyro.factors.Bernoulli(_name, p)>,\n",
       " 'CategoricalOutcome': <function factors.pyro.factors.CategoricalOutcome(_name, outcome_mat, category)>,\n",
       " 'Normal': <function factors.pyro.factors.Normal(_name, mu, sigma)>}"
      ]
     },
     "execution_count": 16,
     "metadata": {},
     "output_type": "execute_result"
    }
   ],
   "source": [
    "factor_fns = {\n",
    "    desc['fn']: getattr(PyroFactors, desc['fn']) \n",
    "    for desc \n",
    "    in model.get_factor_descriptions().values()\n",
    "}\n",
    "factor_fns"
   ]
  },
  {
   "cell_type": "markdown",
   "metadata": {},
   "source": [
    "### Model sampling"
   ]
  },
  {
   "cell_type": "code",
   "execution_count": 17,
   "metadata": {},
   "outputs": [],
   "source": [
    "samples = [model(evidence, factor_fns)['temperature'] for i in range(1000)]"
   ]
  },
  {
   "cell_type": "code",
   "execution_count": 18,
   "metadata": {},
   "outputs": [
    {
     "data": {
      "text/plain": [
       "(array([ 1.,  1.,  1.,  1.,  2.,  2.,  2.,  3.,  5.,  6.,  6.,  4.,  4.,\n",
       "        13.,  8., 14., 13., 19., 23., 25., 29., 35., 29., 40., 42., 40.,\n",
       "        46., 39., 57., 67., 57., 54., 52., 49., 50., 36., 43., 21., 17.,\n",
       "        20., 10.,  2.,  5.,  3.,  2.,  0.,  0.,  1.,  0.,  1.]),\n",
       " array([ 13.899536,  15.873027,  17.846518,  19.820007,  21.793497,\n",
       "         23.766987,  25.740479,  27.713968,  29.687458,  31.66095 ,\n",
       "         33.634438,  35.60793 ,  37.58142 ,  39.55491 ,  41.5284  ,\n",
       "         43.501892,  45.47538 ,  47.44887 ,  49.422363,  51.39585 ,\n",
       "         53.369343,  55.34283 ,  57.316322,  59.289814,  61.2633  ,\n",
       "         63.236794,  65.21028 ,  67.18378 ,  69.157265,  71.13075 ,\n",
       "         73.10425 ,  75.077736,  77.05122 ,  79.02472 ,  80.99821 ,\n",
       "         82.971695,  84.94519 ,  86.91868 ,  88.892166,  90.865654,\n",
       "         92.83915 ,  94.81264 ,  96.786125,  98.75962 , 100.73311 ,\n",
       "        102.7066  , 104.68009 , 106.65358 , 108.62707 , 110.60056 ,\n",
       "        112.57405 ], dtype=float32),\n",
       " <a list of 50 Patch objects>)"
      ]
     },
     "execution_count": 18,
     "metadata": {},
     "output_type": "execute_result"
    },
    {
     "data": {
      "image/png": "[encoded data removed]",
      "text/plain": [
       "<Figure size 432x288 with 1 Axes>"
      ]
     },
     "metadata": {
      "needs_background": "light"
     },
     "output_type": "display_data"
    }
   ],
   "source": [
    "plt.hist(samples, bins=50)"
   ]
  },
  {
   "cell_type": "markdown",
   "metadata": {},
   "source": [
    "See the \"Scale\" notebook for an example of moving from sampling to inference using Pyro and Syllog."
   ]
  }
 ],
 "metadata": {
  "kernelspec": {
   "display_name": "Python 3",
   "language": "python",
   "name": "python3"
  },
  "language_info": {
   "codemirror_mode": {
    "name": "ipython",
    "version": 3
   },
   "file_extension": ".py",
   "mimetype": "text/x-python",
   "name": "python",
   "nbconvert_exporter": "python",
   "pygments_lexer": "ipython3",
   "version": "3.7.0"
  }
 },
 "nbformat": 4,
 "nbformat_minor": 2
}
