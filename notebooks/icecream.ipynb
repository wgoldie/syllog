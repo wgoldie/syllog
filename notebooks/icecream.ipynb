{
 "cells": [
  {
   "cell_type": "code",
   "execution_count": 3,
   "metadata": {},
   "outputs": [
    {
     "ename": "SyntaxError",
     "evalue": "invalid syntax (<ipython-input-3-a0174329c32c>, line 1)",
     "output_type": "error",
     "traceback": [
      "\u001b[0;36m  File \u001b[0;32m\"<ipython-input-3-a0174329c32c>\"\u001b[0;36m, line \u001b[0;32m1\u001b[0m\n\u001b[0;31m    from \"../lib/syllog_model\" import SyllogPyroModel\u001b[0m\n\u001b[0m                             ^\u001b[0m\n\u001b[0;31mSyntaxError\u001b[0m\u001b[0;31m:\u001b[0m invalid syntax\n"
     ]
    }
   ],
   "source": [
    "from \"../lib/syllog_model\" import SyllogPyroModel"
   ]
  },
  {
   "cell_type": "code",
   "execution_count": 2,
   "metadata": {},
   "outputs": [],
   "source": [
    "with open('icecream.json', 'r') as jsonfile:\n",
    "    cyjson=jsonfile.read().replace('\\n', '')"
   ]
  },
  {
   "cell_type": "code",
   "execution_count": 3,
   "metadata": {},
   "outputs": [],
   "source": [
    "model = SyllogPyroModel.from_cyjson(cyjson)"
   ]
  },
  {
   "cell_type": "code",
   "execution_count": 4,
   "metadata": {},
   "outputs": [],
   "source": [
    "model.plot_graph('icecream2.png')"
   ]
  },
  {
   "cell_type": "code",
   "execution_count": 5,
   "metadata": {},
   "outputs": [
    {
     "data": {
      "text/plain": [
       "{'b': {'fn': 'Normal', 'inputs': ['mu', 'sigma'], 'outputs': ['c']},\n",
       " 'z': {'fn': 'CategoricalOutcome',\n",
       "  'inputs': ['outcome_mat', 'category'],\n",
       "  'outputs': ['i']},\n",
       " 'f': {'fn': 'CategoricalOutcome',\n",
       "  'inputs': ['outcome_mat', 'category'],\n",
       "  'outputs': ['i']},\n",
       " 's': {'fn': 'Bernoulli', 'inputs': ['p'], 'outputs': ['t']}}"
      ]
     },
     "execution_count": 5,
     "metadata": {},
     "output_type": "execute_result"
    }
   ],
   "source": [
    "model.get_factor_descriptions()"
   ]
  },
  {
   "cell_type": "code",
   "execution_count": 6,
   "metadata": {},
   "outputs": [
    {
     "data": {
      "text/plain": [
       "['temp_mean_mat', 'temp_var_mat', 'cloud_prob']"
      ]
     },
     "execution_count": 6,
     "metadata": {},
     "output_type": "execute_result"
    }
   ],
   "source": [
    "model.get_evidence_nodes()"
   ]
  },
  {
   "cell_type": "code",
   "execution_count": 12,
   "metadata": {},
   "outputs": [],
   "source": [
    "import pyro.distributions as dist\n",
    "import pyro\n",
    "import torch"
   ]
  },
  {
   "cell_type": "code",
   "execution_count": 13,
   "metadata": {},
   "outputs": [],
   "source": [
    "def Normal(_name, mu, sigma):\n",
    "    return {'c': pyro.sample(_name, dist.Normal(mu, sigma)) }\n",
    "def Bernoulli(_name, p):\n",
    "    return {'t': pyro.sample(_name, dist.Bernoulli(p)) }\n",
    "def CategoricalOutcome(_name, outcome_mat, category):\n",
    "    return { 'i': outcome_mat[torch.tensor(category).int()] }\n",
    "\n",
    "factor_functions = { 'Normal': Normal, 'Bernoulli': Bernoulli, 'CategoricalOutcome': CategoricalOutcome }"
   ]
  },
  {
   "cell_type": "code",
   "execution_count": 14,
   "metadata": {},
   "outputs": [],
   "source": [
    "evidence = {'temp_mean_mat': [75, 55], 'temp_var_mat': [10,15], 'cloud_prob': 0.3}"
   ]
  },
  {
   "cell_type": "code",
   "execution_count": 15,
   "metadata": {},
   "outputs": [
    {
     "name": "stderr",
     "output_type": "stream",
     "text": [
      "/home/wgoldie/anaconda3/lib/python3.7/site-packages/ipykernel_launcher.py:6: UserWarning: To copy construct from a tensor, it is recommended to use sourceTensor.clone().detach() or sourceTensor.clone().detach().requires_grad_(True), rather than torch.tensor(sourceTensor).\n",
      "  \n"
     ]
    }
   ],
   "source": [
    "samples = [model(evidence, factor_functions)['temp'] for i in range(1000)]"
   ]
  },
  {
   "cell_type": "code",
   "execution_count": 16,
   "metadata": {},
   "outputs": [],
   "source": [
    "import matplotlib.pyplot as plt"
   ]
  },
  {
   "cell_type": "code",
   "execution_count": 17,
   "metadata": {},
   "outputs": [
    {
     "data": {
      "text/plain": [
       "(array([ 3.,  2.,  2.,  3.,  2.,  2.,  5.,  4.,  7.,  6.,  6., 10.,  9.,\n",
       "        13., 11., 15., 12., 18., 14., 24., 30., 29., 36., 38., 37., 42.,\n",
       "        50., 44., 55., 71., 64., 56., 47., 49., 42., 37., 26., 23., 18.,\n",
       "        17.,  8.,  4.,  4.,  2.,  1.,  1.,  0.,  0.,  0.,  1.]),\n",
       " array([ 17.172752,  19.083324,  20.993896,  22.904469,  24.81504 ,\n",
       "         26.725613,  28.636185,  30.546757,  32.45733 ,  34.3679  ,\n",
       "         36.278473,  38.189045,  40.099617,  42.01019 ,  43.92076 ,\n",
       "         45.831333,  47.741905,  49.652477,  51.56305 ,  53.47362 ,\n",
       "         55.384193,  57.294765,  59.205338,  61.11591 ,  63.02648 ,\n",
       "         64.93706 ,  66.847626,  68.758194,  70.66877 ,  72.579346,\n",
       "         74.489914,  76.40048 ,  78.31106 ,  80.221634,  82.1322  ,\n",
       "         84.04277 ,  85.95335 ,  87.86392 ,  89.77449 ,  91.68506 ,\n",
       "         93.595634,  95.50621 ,  97.41678 ,  99.32735 , 101.23792 ,\n",
       "        103.1485  , 105.05907 , 106.969635, 108.88021 , 110.79079 ,\n",
       "        112.701355], dtype=float32),\n",
       " <a list of 50 Patch objects>)"
      ]
     },
     "execution_count": 17,
     "metadata": {},
     "output_type": "execute_result"
    },
    {
     "data": {
      "image/png": "[encoded data removed]",
      "text/plain": [
       "<Figure size 432x288 with 1 Axes>"
      ]
     },
     "metadata": {
      "needs_background": "light"
     },
     "output_type": "display_data"
    }
   ],
   "source": [
    "plt.hist(samples, bins=50)"
   ]
  },
  {
   "cell_type": "code",
   "execution_count": null,
   "metadata": {},
   "outputs": [],
   "source": []
  }
 ],
 "metadata": {
  "kernelspec": {
   "display_name": "Python 3",
   "language": "python",
   "name": "python3"
  }
 },
 "nbformat": 4,
 "nbformat_minor": 2
}
