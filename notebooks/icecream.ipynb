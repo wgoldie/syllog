{
 "cells": [
  {
   "cell_type": "code",
   "execution_count": 1,
   "metadata": {},
   "outputs": [],
   "source": [
    "import sys\n",
    "import torch\n",
    "import matplotlib.pyplot as plt\n",
    "\n",
    "sys.path.append('../')\n",
    "from lib.syllog_model import SyllogPyroModel\n",
    "from factors.pyro import factors as PyroFactors"
   ]
  },
  {
   "cell_type": "code",
   "execution_count": 2,
   "metadata": {},
   "outputs": [],
   "source": [
    "with open('data/icecream.json', 'r') as jsonfile:\n",
    "    cyjson=jsonfile.read().replace('\\n', '')"
   ]
  },
  {
   "cell_type": "code",
   "execution_count": 3,
   "metadata": {},
   "outputs": [],
   "source": [
    "model = SyllogPyroModel.from_cyjson(cyjson)"
   ]
  },
  {
   "cell_type": "code",
   "execution_count": 4,
   "metadata": {},
   "outputs": [],
   "source": [
    "# model.plot_graph('icecream2.png')"
   ]
  },
  {
   "cell_type": "code",
   "execution_count": 5,
   "metadata": {},
   "outputs": [
    {
     "data": {
      "text/plain": [
       "{'e3569ca5-8299-4345-b2b6-3ec913d21b52': {'fn': 'Bernoulli',\n",
       "  'inputs': ['p'],\n",
       "  'outputs': ['x']},\n",
       " '29dd4398-b5d8-400c-af92-f2e4655e2ae1': {'fn': 'CategoricalOutcome',\n",
       "  'inputs': ['outcome_mat', 'category'],\n",
       "  'outputs': ['c']},\n",
       " '9b4558a1-a573-4fc2-a047-02ee71144f80': {'fn': 'CategoricalOutcome',\n",
       "  'inputs': ['outcome_mat', 'category'],\n",
       "  'outputs': ['c']},\n",
       " '9d097c1f-febd-4e0c-a784-ebb173800bbb': {'fn': 'Normal',\n",
       "  'inputs': ['mu', 'sigma'],\n",
       "  'outputs': ['z']}}"
      ]
     },
     "execution_count": 5,
     "metadata": {},
     "output_type": "execute_result"
    }
   ],
   "source": [
    "model.get_factor_descriptions()"
   ]
  },
  {
   "cell_type": "code",
   "execution_count": 6,
   "metadata": {},
   "outputs": [
    {
     "data": {
      "text/plain": [
       "['cloud_prob', 'temp_mean_mat', 'temp_variance_mat']"
      ]
     },
     "execution_count": 6,
     "metadata": {},
     "output_type": "execute_result"
    }
   ],
   "source": [
    "model.get_evidence_nodes()"
   ]
  },
  {
   "cell_type": "code",
   "execution_count": 7,
   "metadata": {},
   "outputs": [],
   "source": [
    "factors = {\n",
    "    desc['fn']: getattr(PyroFactors, desc['fn']) \n",
    "    for desc \n",
    "    in model.get_factor_descriptions().values()\n",
    "}"
   ]
  },
  {
   "cell_type": "code",
   "execution_count": 8,
   "metadata": {},
   "outputs": [
    {
     "data": {
      "text/plain": [
       "{'Bernoulli': <function factors.pyro.factors.Bernoulli(_name, p)>,\n",
       " 'CategoricalOutcome': <function factors.pyro.factors.CategoricalOutcome(_name, outcome_mat, category)>,\n",
       " 'Normal': <function factors.pyro.factors.Normal(_name, mu, sigma)>}"
      ]
     },
     "execution_count": 8,
     "metadata": {},
     "output_type": "execute_result"
    }
   ],
   "source": [
    "factors"
   ]
  },
  {
   "cell_type": "code",
   "execution_count": 9,
   "metadata": {},
   "outputs": [],
   "source": [
    "evidence = {'temp_mean_mat': [75, 55], 'temp_variance_mat': [10,15], 'cloud_prob': 0.3}"
   ]
  },
  {
   "cell_type": "code",
   "execution_count": 12,
   "metadata": {},
   "outputs": [],
   "source": [
    "samples = [model(evidence, factors)['temperature'] for i in range(1000)]"
   ]
  },
  {
   "cell_type": "code",
   "execution_count": 14,
   "metadata": {},
   "outputs": [
    {
     "name": "stdout",
     "output_type": "stream",
     "text": [
      "Collecting matplotlib\n",
      "\u001b[?25l  Downloading https://files.pythonhosted.org/packages/ab/e9/675be8ef5ca1be676c5a5b2dbb3eb5246c7017eaa7b233638562a61ea968/matplotlib-3.0.1-cp37-cp37m-manylinux1_x86_64.whl (12.9MB)\n",
      "\u001b[K    100% |████████████████████████████████| 12.9MB 684kB/s eta 0:00:01\n",
      "\u001b[?25hRequirement already satisfied: python-dateutil>=2.1 in /home/wgoldie/miniconda3/lib/python3.7/site-packages (from matplotlib) (2.7.5)\n",
      "Collecting kiwisolver>=1.0.1 (from matplotlib)\n",
      "\u001b[?25l  Downloading https://files.pythonhosted.org/packages/5c/7e/d6cae2f241ba474a2665f24b480bf4e247036d63939dda2bbc4d2ee5069d/kiwisolver-1.0.1-cp37-cp37m-manylinux1_x86_64.whl (89kB)\n",
      "\u001b[K    100% |████████████████████████████████| 92kB 1.2MB/s ta 0:00:01\n",
      "\u001b[?25hCollecting pyparsing!=2.0.4,!=2.1.2,!=2.1.6,>=2.0.1 (from matplotlib)\n",
      "\u001b[?25l  Downloading https://files.pythonhosted.org/packages/71/e8/6777f6624681c8b9701a8a0a5654f3eb56919a01a78e12bf3c73f5a3c714/pyparsing-2.3.0-py2.py3-none-any.whl (59kB)\n",
      "\u001b[K    100% |████████████████████████████████| 61kB 2.3MB/s eta 0:00:01\n",
      "\u001b[?25hCollecting cycler>=0.10 (from matplotlib)\n",
      "  Downloading https://files.pythonhosted.org/packages/f7/d2/e07d3ebb2bd7af696440ce7e754c59dd546ffe1bbe732c8ab68b9c834e61/cycler-0.10.0-py2.py3-none-any.whl\n",
      "Requirement already satisfied: numpy>=1.10.0 in /home/wgoldie/miniconda3/lib/python3.7/site-packages (from matplotlib) (1.15.4)\n",
      "Requirement already satisfied: six>=1.5 in /home/wgoldie/miniconda3/lib/python3.7/site-packages (from python-dateutil>=2.1->matplotlib) (1.11.0)\n",
      "Requirement already satisfied: setuptools in /home/wgoldie/miniconda3/lib/python3.7/site-packages (from kiwisolver>=1.0.1->matplotlib) (40.2.0)\n",
      "\u001b[31mmkl-random 1.0.1 requires cython, which is not installed.\u001b[0m\n",
      "Installing collected packages: kiwisolver, pyparsing, cycler, matplotlib\n",
      "Successfully installed cycler-0.10.0 kiwisolver-1.0.1 matplotlib-3.0.1 pyparsing-2.3.0\n",
      "\u001b[33mYou are using pip version 10.0.1, however version 18.1 is available.\n",
      "You should consider upgrading via the 'pip install --upgrade pip' command.\u001b[0m\n"
     ]
    }
   ],
   "source": [
    "!pip install matplotlib"
   ]
  },
  {
   "cell_type": "code",
   "execution_count": 15,
   "metadata": {},
   "outputs": [],
   "source": []
  },
  {
   "cell_type": "code",
   "execution_count": 16,
   "metadata": {},
   "outputs": [
    {
     "data": {
      "text/plain": [
       "(array([ 1.,  0.,  2.,  1.,  2.,  1.,  5.,  4.,  5., 12.,  7.,  9.,  8.,\n",
       "         6., 15., 10., 17., 22., 18., 29., 23., 41., 27., 36., 48., 51.,\n",
       "        56., 74., 52., 61., 60., 69., 54., 40., 27., 23., 31., 22., 13.,\n",
       "         8.,  2.,  3.,  0.,  1.,  2.,  1.,  0.,  0.,  0.,  1.]),\n",
       " array([ 15.178764,  17.198591,  19.21842 ,  21.238247,  23.258076,\n",
       "         25.277903,  27.297731,  29.317558,  31.337387,  33.357212,\n",
       "         35.37704 ,  37.39687 ,  39.4167  ,  41.436523,  43.456352,\n",
       "         45.47618 ,  47.49601 ,  49.515835,  51.535664,  53.555492,\n",
       "         55.575317,  57.595146,  59.614975,  61.634804,  63.65463 ,\n",
       "         65.67445 ,  67.69428 ,  69.71411 ,  71.73394 ,  73.75377 ,\n",
       "         75.7736  ,  77.79343 ,  79.813255,  81.83308 ,  83.852905,\n",
       "         85.872734,  87.89256 ,  89.91239 ,  91.93222 ,  93.95205 ,\n",
       "         95.97187 ,  97.9917  , 100.01153 , 102.03136 , 104.051186,\n",
       "        106.071014, 108.09084 , 110.110664, 112.13049 , 114.15032 ,\n",
       "        116.17015 ], dtype=float32),\n",
       " <a list of 50 Patch objects>)"
      ]
     },
     "execution_count": 16,
     "metadata": {},
     "output_type": "execute_result"
    },
    {
     "data": {
      "image/png": "[encoded data removed]",
      "text/plain": [
       "<Figure size 432x288 with 1 Axes>"
      ]
     },
     "metadata": {
      "needs_background": "light"
     },
     "output_type": "display_data"
    }
   ],
   "source": [
    "plt.hist(samples, bins=50)"
   ]
  },
  {
   "cell_type": "code",
   "execution_count": null,
   "metadata": {},
   "outputs": [],
   "source": []
  }
 ],
 "metadata": {
  "kernelspec": {
   "display_name": "Python 3",
   "language": "python",
   "name": "python3"
  },
  "language_info": {
   "codemirror_mode": {
    "name": "ipython",
    "version": 3
   },
   "file_extension": ".py",
   "mimetype": "text/x-python",
   "name": "python",
   "nbconvert_exporter": "python",
   "pygments_lexer": "ipython3",
   "version": "3.7.0"
  }
 },
 "nbformat": 4,
 "nbformat_minor": 2
}
