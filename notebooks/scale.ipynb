{
 "cells": [
  {
   "cell_type": "markdown",
   "metadata": {},
   "source": [
    "## Inference with Syllog and Pyro\n",
    "\n",
    "This example is adapted from the [Pyro documentation](http://pyro.ai/examples/intro_part_ii.html)."
   ]
  },
  {
   "cell_type": "code",
   "execution_count": 20,
   "metadata": {},
   "outputs": [],
   "source": [
    "#!cairo install pytorch -c pytorch\n",
    "#!pip install cairocffi pyro matplotlib"
   ]
  },
  {
   "cell_type": "code",
   "execution_count": 21,
   "metadata": {},
   "outputs": [],
   "source": [
    "import torch\n",
    "import pyro\n",
    "import cairocffi as cairo # need this import/rename for igraph plotting, it can be ommitted if you don't plot\n",
    "import matplotlib.pyplot as plt\n",
    "\n",
    "import sys\n",
    "sys.path.append('../')\n",
    "from lib.syllog_model import SyllogPyroModel # Class that reads Syllog JSON into a Pyro model\n",
    "from factors.pyro import factors as PyroFactors # Module providing factors from pyro.distributions"
   ]
  },
  {
   "cell_type": "markdown",
   "metadata": {},
   "source": [
    "### Model construction\n",
    "Let's start by constructing our model from a Syllog model (see the `icecream` notebook for a detailed breakdown of this step)"
   ]
  },
  {
   "cell_type": "code",
   "execution_count": 22,
   "metadata": {},
   "outputs": [],
   "source": [
    "with open('data/scale.json', 'r') as jsonfile:\n",
    "    cyjson=jsonfile.read()"
   ]
  },
  {
   "cell_type": "code",
   "execution_count": 23,
   "metadata": {},
   "outputs": [],
   "source": [
    "model = SyllogPyroModel.from_cyjson(cyjson)"
   ]
  },
  {
   "cell_type": "code",
   "execution_count": 24,
   "metadata": {},
   "outputs": [],
   "source": [
    "factor_fns = dict({\n",
    "    desc['fn']: getattr(PyroFactors, desc['fn']) \n",
    "    for desc \n",
    "    in model.get_factor_descriptions().values()\n",
    "})"
   ]
  },
  {
   "cell_type": "code",
   "execution_count": 25,
   "metadata": {},
   "outputs": [
    {
     "data": {
      "text/plain": [
       "['guess', 'weight_var', 'measure_var']"
      ]
     },
     "execution_count": 25,
     "metadata": {},
     "output_type": "execute_result"
    }
   ],
   "source": [
    "model.get_evidence_nodes()"
   ]
  },
  {
   "cell_type": "markdown",
   "metadata": {},
   "source": [
    "Note that we construct a sampling function here that takes a guess for the weight, \n",
    "rather than providing all evidence variables."
   ]
  },
  {
   "cell_type": "code",
   "execution_count": 26,
   "metadata": {},
   "outputs": [],
   "source": [
    "def scale(guess):\n",
    "    evidence = {'guess': guess, 'weight_var': 1., 'measure_var': 0.75}\n",
    "    return model(evidence, factor_fns)['measurement']"
   ]
  },
  {
   "cell_type": "code",
   "execution_count": 27,
   "metadata": {},
   "outputs": [],
   "source": [
    "samples = [scale(1.2) for i in range(100)]"
   ]
  },
  {
   "cell_type": "code",
   "execution_count": 28,
   "metadata": {
    "scrolled": false
   },
   "outputs": [
    {
     "data": {
      "text/plain": [
       "(array([2., 0., 0., 0., 0., 2., 0., 0., 1., 3., 2., 2., 1., 1., 1., 3., 1.,\n",
       "        1., 3., 3., 3., 1., 4., 9., 1., 5., 2., 3., 3., 4., 1., 3., 4., 4.,\n",
       "        4., 3., 2., 1., 3., 3., 0., 2., 2., 2., 0., 3., 0., 0., 1., 1.]),\n",
       " array([-1.6802535 , -1.561944  , -1.4436346 , -1.3253251 , -1.2070158 ,\n",
       "        -1.0887063 , -0.9703968 , -0.8520874 , -0.7337779 , -0.61546844,\n",
       "        -0.497159  , -0.37884957, -0.2605401 , -0.14223066, -0.0239212 ,\n",
       "         0.09438825,  0.2126977 ,  0.33100715,  0.4493166 ,  0.56762606,\n",
       "         0.6859355 ,  0.80424494,  0.9225544 ,  1.0408639 ,  1.1591733 ,\n",
       "         1.2774827 ,  1.3957922 ,  1.5141016 ,  1.6324111 ,  1.7507205 ,\n",
       "         1.86903   ,  1.9873395 ,  2.105649  ,  2.2239583 ,  2.3422678 ,\n",
       "         2.4605772 ,  2.5788867 ,  2.6971962 ,  2.8155055 ,  2.933815  ,\n",
       "         3.0521245 ,  3.170434  ,  3.2887435 ,  3.4070528 ,  3.5253623 ,\n",
       "         3.6436718 ,  3.7619812 ,  3.8802907 ,  3.9986    ,  4.1169095 ,\n",
       "         4.235219  ], dtype=float32),\n",
       " <a list of 50 Patch objects>)"
      ]
     },
     "execution_count": 28,
     "metadata": {},
     "output_type": "execute_result"
    },
    {
     "data": {
      "image/png": "[encoded data removed]",
      "text/plain": [
       "<Figure size 432x288 with 1 Axes>"
      ]
     },
     "metadata": {
      "needs_background": "light"
     },
     "output_type": "display_data"
    }
   ],
   "source": [
    "plt.hist(samples, bins=50)"
   ]
  },
  {
   "cell_type": "markdown",
   "metadata": {},
   "source": [
    "### Inference\n",
    "We can construct a posterior in the standard Pyro way from our model."
   ]
  },
  {
   "cell_type": "code",
   "execution_count": 29,
   "metadata": {},
   "outputs": [],
   "source": [
    "posterior = pyro.infer.Importance(scale, num_samples = 100)"
   ]
  },
  {
   "cell_type": "code",
   "execution_count": 30,
   "metadata": {},
   "outputs": [
    {
     "name": "stdout",
     "output_type": "stream",
     "text": [
      "tensor(7.9752)\n"
     ]
    }
   ],
   "source": [
    "guess = 8.5\n",
    "marginal = pyro.infer.EmpiricalMarginal(posterior.run(guess))\n",
    "print(marginal())"
   ]
  },
  {
   "cell_type": "code",
   "execution_count": 31,
   "metadata": {},
   "outputs": [
    {
     "data": {
      "image/png": "[encoded data removed]",
      "text/plain": [
       "<Figure size 432x288 with 1 Axes>"
      ]
     },
     "metadata": {
      "needs_background": "light"
     },
     "output_type": "display_data"
    }
   ],
   "source": [
    "plt.hist([marginal().item() for _ in range(100)], range=(5.0, 12.0))\n",
    "plt.title(\"P(measurement | guess)\")\n",
    "plt.xlabel(\"weight\")\n",
    "plt.ylabel(\"#\");"
   ]
  }
 ],
 "metadata": {
  "kernelspec": {
   "display_name": "Python 3",
   "language": "python",
   "name": "python3"
  },
  "language_info": {
   "codemirror_mode": {
    "name": "ipython",
    "version": 3
   },
   "file_extension": ".py",
   "mimetype": "text/x-python",
   "name": "python",
   "nbconvert_exporter": "python",
   "pygments_lexer": "ipython3",
   "version": "3.7.0"
  }
 },
 "nbformat": 4,
 "nbformat_minor": 2
}
